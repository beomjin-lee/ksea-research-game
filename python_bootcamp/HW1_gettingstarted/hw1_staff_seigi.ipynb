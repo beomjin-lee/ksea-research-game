{
 "cells": [
  {
   "cell_type": "markdown",
   "metadata": {},
   "source": [
    "# [ERG-190C] Homework 1: Introduction\n",
    "\n",
    "Welcome to the first homework for this course! We'll go over some Python and NumPy exercises, as well as some mathematics that are helpful for this course.\n",
    "\n",
    "## Table of Contents\n",
    "1 - [Python](#python)<br>\n",
    "2 - [NumPy and Tables](#NumPy)<br>\n",
    "3 - [Multivariable Calculus](#MultiCalc)<br>\n",
    "4 - [Linear Algebra](#LinAlg)<br>\n",
    "\n",
    "**Dependencies:**"
   ]
  },
  {
   "cell_type": "code",
   "execution_count": 91,
   "metadata": {
    "nbgrader": {
     "cell_type": "code",
     "checksum": "996a8f6425097050e05ac9cfbe898e48",
     "grade": false,
     "grade_id": "all-the-imports",
     "locked": false,
     "schema_version": 2,
     "solution": false
    }
   },
   "outputs": [],
   "source": [
    "import math\n",
    "import numpy as np\n",
    "import matplotlib\n",
    "%matplotlib inline\n",
    "import matplotlib.pyplot as plt\n",
    "plt.style.use('fivethirtyeight')\n",
    "import pandas as pd\n",
    "\n",
    "import skimage\n",
    "import skimage.io\n",
    "import skimage.filters"
   ]
  },
  {
   "cell_type": "markdown",
   "metadata": {
    "nbgrader": {
     "cell_type": "markdown",
     "checksum": "70d77ecade2565eb58c37a0bbccaca8e",
     "grade": false,
     "grade_id": "python-tutorial-links",
     "locked": false,
     "schema_version": 2,
     "solution": false
    }
   },
   "source": [
    "## Section 1: Python  <a id='python'></a>\n",
    "\n",
    "Python is the main programming language we'll use in the course. Go through the following cells and make sure you understand what is happening in each.\n",
    "\n",
    "Feel free to review one or more of the following materials as a refresher.\n",
    "\n",
    "- **[Python Tutorial](https://docs.python.org/3.5/tutorial/)**: Introduction to Python from the creators of Python\n",
    "- **[Composing Programs Chapter 1](http://composingprograms.com/pages/11-getting-started.html)**: This is more of a introduction to programming with Python.\n",
    "- **[Advanced Crash Course](http://cs231n.github.io/python-numpy-tutorial/)**: A fast crash course which assumes some programming background.\n",
    "\n",
    "<br>\n",
    "**Mathematical Expressions**\n",
    "\n",
    "In this section, we'll go over some basic mathematical expressions in Python."
   ]
  },
  {
   "cell_type": "code",
   "execution_count": 92,
   "metadata": {
    "nbgrader": {
     "cell_type": "code",
     "checksum": "373741ec83109a2bb362b522a6e97858",
     "grade": false,
     "grade_id": "math-sqrt",
     "locked": false,
     "schema_version": 2,
     "solution": false
    }
   },
   "outputs": [
    {
     "data": {
      "text/plain": [
       "0.3427354792736325"
      ]
     },
     "execution_count": 92,
     "metadata": {},
     "output_type": "execute_result"
    }
   ],
   "source": [
    "# In Python, the ** operator performs exponentiation.\n",
    "math.sqrt(math.e ** (-math.pi + 1))"
   ]
  },
  {
   "cell_type": "markdown",
   "metadata": {},
   "source": [
    "*Exercise:* Take the product of three and three to the power of six, and subtract 169."
   ]
  },
  {
   "cell_type": "code",
   "execution_count": 93,
   "metadata": {},
   "outputs": [
    {
     "data": {
      "text/plain": [
       "Ellipsis"
      ]
     },
     "execution_count": 93,
     "metadata": {},
     "output_type": "execute_result"
    }
   ],
   "source": [
    "..."
   ]
  },
  {
   "cell_type": "code",
   "execution_count": 94,
   "metadata": {},
   "outputs": [
    {
     "data": {
      "text/plain": [
       "2018"
      ]
     },
     "execution_count": 94,
     "metadata": {},
     "output_type": "execute_result"
    }
   ],
   "source": [
    "# SOLUTION\n",
    "(3 ** 6) * 3 - 169"
   ]
  },
  {
   "cell_type": "markdown",
   "metadata": {
    "nbgrader": {
     "cell_type": "markdown",
     "checksum": "1daa637fcc4cd5d89a98f1fa7a56d294",
     "grade": false,
     "grade_id": "output-and-printing",
     "locked": false,
     "schema_version": 2,
     "solution": false
    }
   },
   "source": [
    "**Output and Printing**\n",
    "\n",
    "Run the code below, and take a look at what prints, versus what doesn't. Think about why."
   ]
  },
  {
   "cell_type": "code",
   "execution_count": 95,
   "metadata": {
    "nbgrader": {
     "cell_type": "code",
     "checksum": "9ab477866cebf6782c1e5adb03977369",
     "grade": false,
     "grade_id": "why-no-print",
     "locked": false,
     "schema_version": 2,
     "solution": false
    }
   },
   "outputs": [
    {
     "name": "stdout",
     "output_type": "stream",
     "text": [
      "Hello, world!\n"
     ]
    },
    {
     "data": {
      "text/plain": [
       "'Hello, cell output!'"
      ]
     },
     "execution_count": 95,
     "metadata": {},
     "output_type": "execute_result"
    }
   ],
   "source": [
    "\"Why didn't this line print?\"\n",
    "\n",
    "print(\"Hello\" + \",\", \"world!\")\n",
    "\n",
    "\"Hello, cell\" + \" output!\""
   ]
  },
  {
   "cell_type": "markdown",
   "metadata": {},
   "source": [
    "**For Loops**"
   ]
  },
  {
   "cell_type": "code",
   "execution_count": 96,
   "metadata": {
    "nbgrader": {
     "cell_type": "code",
     "checksum": "53b1f92b21db1701fb02bc3945fdb329",
     "grade": false,
     "grade_id": "for-loops-code",
     "locked": false,
     "schema_version": 2,
     "solution": false
    }
   },
   "outputs": [
    {
     "name": "stdout",
     "output_type": "stream",
     "text": [
      "1\n",
      "Odd power of 2\n",
      "4\n",
      "Odd power of 2\n",
      "16\n"
     ]
    }
   ],
   "source": [
    "# A for loop repeats a block of code once for each\n",
    "# element in a given collection.\n",
    "for i in range(5):\n",
    "    if i % 2 == 0:\n",
    "        print(2**i)\n",
    "    else:\n",
    "        print(\"Odd power of 2\")"
   ]
  },
  {
   "cell_type": "markdown",
   "metadata": {},
   "source": [
    "**Strings** ([Reference](https://developers.google.com/edu/python/strings))"
   ]
  },
  {
   "cell_type": "code",
   "execution_count": 97,
   "metadata": {},
   "outputs": [
    {
     "name": "stdout",
     "output_type": "stream",
     "text": [
      "i\n",
      "2\n",
      "hi there\n"
     ]
    }
   ],
   "source": [
    "s = 'hi'\n",
    "print(s[1])         ## i\n",
    "print(len(s))       ## 2\n",
    "print(s + ' there')"
   ]
  },
  {
   "cell_type": "code",
   "execution_count": 98,
   "metadata": {},
   "outputs": [
    {
     "name": "stdout",
     "output_type": "stream",
     "text": [
      "The value of pi is 3.14\n"
     ]
    }
   ],
   "source": [
    "pi = 3.14\n",
    "##text = 'The value of pi is ' + pi      ## NO, does not work\n",
    "text = 'The value of pi is '  + str(pi)  ## yes\n",
    "print(text)"
   ]
  },
  {
   "cell_type": "markdown",
   "metadata": {},
   "source": [
    "*Exercise:* write a line of code that will output 'I like 3.14' without explicitly typing out the number."
   ]
  },
  {
   "cell_type": "code",
   "execution_count": 99,
   "metadata": {},
   "outputs": [
    {
     "data": {
      "text/plain": [
       "Ellipsis"
      ]
     },
     "execution_count": 99,
     "metadata": {},
     "output_type": "execute_result"
    }
   ],
   "source": [
    "..."
   ]
  },
  {
   "cell_type": "code",
   "execution_count": 100,
   "metadata": {},
   "outputs": [
    {
     "data": {
      "text/plain": [
       "'I like 3.14'"
      ]
     },
     "execution_count": 100,
     "metadata": {},
     "output_type": "execute_result"
    }
   ],
   "source": [
    "# SOLUTION\n",
    "\"I like \" + str(pi)"
   ]
  },
  {
   "cell_type": "markdown",
   "metadata": {},
   "source": [
    "**Lists** ([Reference](https://docs.python.org/3.5/tutorial/introduction.html#lists))"
   ]
  },
  {
   "cell_type": "code",
   "execution_count": 101,
   "metadata": {},
   "outputs": [
    {
     "data": {
      "text/plain": [
       "[1, 4, 9, 16, 25]"
      ]
     },
     "execution_count": 101,
     "metadata": {},
     "output_type": "execute_result"
    }
   ],
   "source": [
    "squares = [1, 4, 9, 16, 25]\n",
    "squares"
   ]
  },
  {
   "cell_type": "code",
   "execution_count": 102,
   "metadata": {},
   "outputs": [
    {
     "name": "stdout",
     "output_type": "stream",
     "text": [
      "1\n",
      "25\n",
      "[9, 16, 25]\n",
      "[1, 4, 9, 16, 25]\n",
      "[1, 4, 9, 16, 25, 36, 49, 64, 81, 100]\n"
     ]
    }
   ],
   "source": [
    "print(squares[0])\n",
    "print(squares[-1])\n",
    "print(squares[-3:])\n",
    "print(squares[:])\n",
    "print(squares + [36, 49, 64, 81, 100])"
   ]
  },
  {
   "cell_type": "markdown",
   "metadata": {
    "nbgrader": {
     "cell_type": "markdown",
     "checksum": "ff336c88be61f39380c7984668e88c49",
     "grade": false,
     "grade_id": "list-comprehension",
     "locked": false,
     "schema_version": 2,
     "solution": false
    }
   },
   "source": [
    "**List Comprehension**"
   ]
  },
  {
   "cell_type": "code",
   "execution_count": 103,
   "metadata": {
    "nbgrader": {
     "cell_type": "code",
     "checksum": "b73efbbf915254c428decbb42230921d",
     "grade": false,
     "grade_id": "list-comp-code",
     "locked": false,
     "schema_version": 2,
     "solution": false
    }
   },
   "outputs": [
    {
     "data": {
      "text/plain": [
       "['1 sheep.', '2 sheep.', '3 sheep.', '4 sheep.']"
      ]
     },
     "execution_count": 103,
     "metadata": {},
     "output_type": "execute_result"
    }
   ],
   "source": [
    "[str(i) + \" sheep.\" for i in range(1,5)] "
   ]
  },
  {
   "cell_type": "code",
   "execution_count": 104,
   "metadata": {
    "nbgrader": {
     "cell_type": "code",
     "checksum": "cf2b95d90c0fd3a6754cbeb83a1523c4",
     "grade": false,
     "grade_id": "more-list-comp-code",
     "locked": false,
     "schema_version": 2,
     "solution": false
    }
   },
   "outputs": [
    {
     "data": {
      "text/plain": [
       "[0, 2, 4, 6, 8]"
      ]
     },
     "execution_count": 104,
     "metadata": {},
     "output_type": "execute_result"
    }
   ],
   "source": [
    "[i for i in range(10) if i % 2 == 0]"
   ]
  },
  {
   "cell_type": "markdown",
   "metadata": {},
   "source": [
    "*Exercise:* Write a list comprehension that will give all odd numbers from 1 through 190"
   ]
  },
  {
   "cell_type": "code",
   "execution_count": 105,
   "metadata": {},
   "outputs": [
    {
     "data": {
      "text/plain": [
       "Ellipsis"
      ]
     },
     "execution_count": 105,
     "metadata": {},
     "output_type": "execute_result"
    }
   ],
   "source": [
    "..."
   ]
  },
  {
   "cell_type": "code",
   "execution_count": 106,
   "metadata": {},
   "outputs": [
    {
     "name": "stdout",
     "output_type": "stream",
     "text": [
      "[1, 3, 5, 7, 9, 11, 13, 15, 17, 19, 21, 23, 25, 27, 29, 31, 33, 35, 37, 39, 41, 43, 45, 47, 49, 51, 53, 55, 57, 59, 61, 63, 65, 67, 69, 71, 73, 75, 77, 79, 81, 83, 85, 87, 89, 91, 93, 95, 97, 99, 101, 103, 105, 107, 109, 111, 113, 115, 117, 119, 121, 123, 125, 127, 129, 131, 133, 135, 137, 139, 141, 143, 145, 147, 149, 151, 153, 155, 157, 159, 161, 163, 165, 167, 169, 171, 173, 175, 177, 179, 181, 183, 185, 187, 189]\n"
     ]
    }
   ],
   "source": [
    "# SOLUTION (does not necessarily need print statement, added so output would not flood notebook)\n",
    "print([i for i in range(191) if i % 2 != 0])"
   ]
  },
  {
   "cell_type": "markdown",
   "metadata": {},
   "source": [
    "**Dictionaries** ([Reference](https://docs.python.org/3.5/tutorial/datastructures.html#dictionaries))"
   ]
  },
  {
   "cell_type": "code",
   "execution_count": 107,
   "metadata": {},
   "outputs": [],
   "source": [
    "tel = {'jack': 4127, 'sape': 4145}\n",
    "tel['john'] = 4127\n",
    "del tel['sape']"
   ]
  },
  {
   "cell_type": "code",
   "execution_count": 108,
   "metadata": {},
   "outputs": [
    {
     "data": {
      "text/plain": [
       "{'jack': 4127, 'john': 4127}"
      ]
     },
     "execution_count": 108,
     "metadata": {},
     "output_type": "execute_result"
    }
   ],
   "source": [
    "tel"
   ]
  },
  {
   "cell_type": "code",
   "execution_count": 109,
   "metadata": {},
   "outputs": [
    {
     "data": {
      "text/plain": [
       "4127"
      ]
     },
     "execution_count": 109,
     "metadata": {},
     "output_type": "execute_result"
    }
   ],
   "source": [
    "tel['jack']"
   ]
  },
  {
   "cell_type": "markdown",
   "metadata": {
    "nbgrader": {
     "cell_type": "markdown",
     "checksum": "4019eddb08e868ba791409d6fc683de2",
     "grade": false,
     "grade_id": "defining-functions",
     "locked": false,
     "schema_version": 2,
     "solution": false
    }
   },
   "source": [
    "**Defining Functions**"
   ]
  },
  {
   "cell_type": "code",
   "execution_count": 110,
   "metadata": {
    "nbgrader": {
     "cell_type": "code",
     "checksum": "661113989cc8f0b9d720538abe72442b",
     "grade": false,
     "grade_id": "add-2-function",
     "locked": false,
     "schema_version": 2,
     "solution": false
    }
   },
   "outputs": [],
   "source": [
    "def add2(x):\n",
    "    \"\"\"This docstring explains what this function does: it adds 2 to a number.\"\"\"\n",
    "    return x + 2"
   ]
  },
  {
   "cell_type": "markdown",
   "metadata": {
    "nbgrader": {
     "cell_type": "markdown",
     "checksum": "c09ded864939c7c63ae05ff2acce1d41",
     "grade": false,
     "grade_id": "get-help",
     "locked": false,
     "schema_version": 2,
     "solution": false
    }
   },
   "source": [
    "**Getting Help**"
   ]
  },
  {
   "cell_type": "code",
   "execution_count": 111,
   "metadata": {
    "nbgrader": {
     "cell_type": "code",
     "checksum": "5ca8b464f0d81a22dbc80a5d3290933c",
     "grade": false,
     "grade_id": "help-add2",
     "locked": false,
     "schema_version": 2,
     "solution": false
    }
   },
   "outputs": [
    {
     "name": "stdout",
     "output_type": "stream",
     "text": [
      "Help on function add2 in module __main__:\n",
      "\n",
      "add2(x)\n",
      "    This docstring explains what this function does: it adds 2 to a number.\n",
      "\n"
     ]
    }
   ],
   "source": [
    "help(add2)"
   ]
  },
  {
   "cell_type": "markdown",
   "metadata": {
    "nbgrader": {
     "cell_type": "markdown",
     "checksum": "912292fe078a9d0a1a657f687a32c36d",
     "grade": false,
     "grade_id": "passing-functions",
     "locked": false,
     "schema_version": 2,
     "solution": false
    }
   },
   "source": [
    "**Passing Functions as Values**"
   ]
  },
  {
   "cell_type": "code",
   "execution_count": 112,
   "metadata": {
    "nbgrader": {
     "cell_type": "code",
     "checksum": "7b21bff1e2ab7845e6e05dc3ba2c077b",
     "grade": false,
     "grade_id": "make-adder",
     "locked": false,
     "schema_version": 2,
     "solution": false
    }
   },
   "outputs": [
    {
     "data": {
      "text/plain": [
       "7"
      ]
     },
     "execution_count": 112,
     "metadata": {},
     "output_type": "execute_result"
    }
   ],
   "source": [
    "def makeAdder(amount):\n",
    "    \"\"\"Make a function that adds the given amount to a number.\"\"\"\n",
    "    def addAmount(x):\n",
    "        return x + amount\n",
    "    return addAmount\n",
    "\n",
    "add3 = makeAdder(3)\n",
    "add3(4)"
   ]
  },
  {
   "cell_type": "code",
   "execution_count": 113,
   "metadata": {
    "nbgrader": {
     "cell_type": "code",
     "checksum": "fd40615aeeb0790416e16438edfe0009",
     "grade": false,
     "grade_id": "make-adder-curry",
     "locked": false,
     "schema_version": 2,
     "solution": false
    }
   },
   "outputs": [
    {
     "data": {
      "text/plain": [
       "7"
      ]
     },
     "execution_count": 113,
     "metadata": {},
     "output_type": "execute_result"
    }
   ],
   "source": [
    "makeAdder(3)(4)"
   ]
  },
  {
   "cell_type": "markdown",
   "metadata": {},
   "source": [
    "*Exercise:* What happens if you don't include an argument for `add3`? Why does it happen?"
   ]
  },
  {
   "cell_type": "markdown",
   "metadata": {},
   "source": [
    "*Your answer here*"
   ]
  },
  {
   "cell_type": "code",
   "execution_count": 114,
   "metadata": {},
   "outputs": [
    {
     "ename": "SyntaxError",
     "evalue": "invalid syntax (<ipython-input-114-c139f4c737ee>, line 2)",
     "output_type": "error",
     "traceback": [
      "\u001b[1;36m  File \u001b[1;32m\"<ipython-input-114-c139f4c737ee>\"\u001b[1;36m, line \u001b[1;32m2\u001b[0m\n\u001b[1;33m    Since \"makeAdder\" is a higher order function, it returns the function \"addAmount\" that was defined in the\u001b[0m\n\u001b[1;37m                    ^\u001b[0m\n\u001b[1;31mSyntaxError\u001b[0m\u001b[1;31m:\u001b[0m invalid syntax\n"
     ]
    }
   ],
   "source": [
    "# SOLUTION\n",
    "Since \"makeAdder\" is a higher order function, it returns the function \"addAmount\" that was defined in the \n",
    "body of makeAdder. Therefore, by not incuding a second argument in add3, we only get the object pointing to the \n",
    "function that is adding three to another argument (which would have been the other argument)."
   ]
  },
  {
   "cell_type": "markdown",
   "metadata": {
    "nbgrader": {
     "cell_type": "markdown",
     "checksum": "faff97b2a7f4ace5201df1699b9ab4b8",
     "grade": false,
     "grade_id": "anon-function",
     "locked": false,
     "schema_version": 2,
     "solution": false
    }
   },
   "source": [
    "**Anonymous Functions and Lambdas**"
   ]
  },
  {
   "cell_type": "code",
   "execution_count": 115,
   "metadata": {
    "nbgrader": {
     "cell_type": "code",
     "checksum": "db319326f7568ac22198aac2be52d31c",
     "grade": false,
     "grade_id": "add4-to-5",
     "locked": false,
     "schema_version": 2,
     "solution": false
    }
   },
   "outputs": [
    {
     "data": {
      "text/plain": [
       "9"
      ]
     },
     "execution_count": 115,
     "metadata": {},
     "output_type": "execute_result"
    }
   ],
   "source": [
    "# add4 is very similar to add2, but it's been created using a lambda expression.\n",
    "add4 = lambda x: x + 4\n",
    "add4(5)"
   ]
  },
  {
   "cell_type": "markdown",
   "metadata": {},
   "source": [
    "*Exercise:* Create a lambda expression that does not take any arguemnts and returns the string \"My favorite cycle(s) is/are ...\" (interpret the prompt any way you want -- we think graph cycles are pretty cool!)"
   ]
  },
  {
   "cell_type": "code",
   "execution_count": 116,
   "metadata": {},
   "outputs": [
    {
     "data": {
      "text/plain": [
       "Ellipsis"
      ]
     },
     "execution_count": 116,
     "metadata": {},
     "output_type": "execute_result"
    }
   ],
   "source": [
    "favorite_cycle = ...\n",
    "#call your function below!\n",
    "..."
   ]
  },
  {
   "cell_type": "code",
   "execution_count": 117,
   "metadata": {},
   "outputs": [
    {
     "data": {
      "text/plain": [
       "'My favorite cycles are graph cycles'"
      ]
     },
     "execution_count": 117,
     "metadata": {},
     "output_type": "execute_result"
    }
   ],
   "source": [
    "# POTENTIAL SOLUTION\n",
    "favorite_cycle = lambda: \"My favorite cycles are graph cycles\"\n",
    "favorite_cycle()"
   ]
  },
  {
   "cell_type": "markdown",
   "metadata": {
    "nbgrader": {
     "cell_type": "markdown",
     "checksum": "e55f303b10d675f20ab0057c79959a1d",
     "grade": false,
     "grade_id": "recurrsion",
     "locked": false,
     "schema_version": 2,
     "solution": false
    }
   },
   "source": [
    "**Recursion**"
   ]
  },
  {
   "cell_type": "code",
   "execution_count": 118,
   "metadata": {
    "nbgrader": {
     "cell_type": "code",
     "checksum": "1375f02cbe0d34d7b176de7870af2da6",
     "grade": false,
     "grade_id": "total-fib",
     "locked": false,
     "schema_version": 2,
     "solution": false
    }
   },
   "outputs": [
    {
     "data": {
      "text/plain": [
       "13"
      ]
     },
     "execution_count": 118,
     "metadata": {},
     "output_type": "execute_result"
    }
   ],
   "source": [
    "def fib(n):\n",
    "    if n <= 1:\n",
    "        return 1\n",
    "    else:\n",
    "        # Functions can call themselves recursively.\n",
    "        return fib(n-1) + fib(n-2)\n",
    "\n",
    "fib(6)"
   ]
  },
  {
   "cell_type": "markdown",
   "metadata": {
    "nbgrader": {
     "cell_type": "markdown",
     "checksum": "85d8b83f79434888f22c52650ac2da35",
     "grade": false,
     "grade_id": "begin-question1",
     "locked": false,
     "schema_version": 2,
     "solution": false
    }
   },
   "source": [
    "----\n",
    "\n",
    "**Question 1.1:** Fill in the ellipses in the function `nums_reversed`, which takes in an integer `n` and returns a string containing the numbers 1 through `n` including `n` in reverse order, separated by spaces. For example:\n",
    "\n",
    "    >>> nums_reversed(5)\n",
    "    '5 4 3 2 1'"
   ]
  },
  {
   "cell_type": "code",
   "execution_count": 119,
   "metadata": {},
   "outputs": [],
   "source": [
    "def nums_reversed(n):\n",
    "    ### BEGIN SOLUTION\n",
    "    return \" \".join([...])\n",
    "    ### END SOLUTION"
   ]
  },
  {
   "cell_type": "code",
   "execution_count": 120,
   "metadata": {
    "nbgrader": {
     "cell_type": "code",
     "checksum": "54cc8f567acf9aef5ba9614d0c5315ba",
     "grade": false,
     "grade_id": "num-reversed",
     "locked": false,
     "schema_version": 2,
     "solution": true
    }
   },
   "outputs": [],
   "source": [
    "def nums_reversed(n):\n",
    "    ### BEGIN SOLUTION\n",
    "    return \" \".join([str(i) for i in range(n, 0, -1)])\n",
    "    ### END SOLUTION"
   ]
  },
  {
   "cell_type": "code",
   "execution_count": 121,
   "metadata": {},
   "outputs": [],
   "source": [
    "assert nums_reversed(5) == '5 4 3 2 1'\n",
    "assert nums_reversed(10) == '10 9 8 7 6 5 4 3 2 1'"
   ]
  },
  {
   "cell_type": "markdown",
   "metadata": {
    "nbgrader": {
     "cell_type": "markdown",
     "checksum": "e10d3fdb45628f1b001607b511e70eeb",
     "grade": false,
     "grade_id": "question1b",
     "locked": false,
     "schema_version": 2,
     "solution": false
    }
   },
   "source": [
    "**Question 1.2:** Write a function `string_splosion` that takes in a non-empty string like\n",
    "`\"Code\"` and returns a long string containing every prefix of the input.\n",
    "For example:\n",
    "\n",
    "    >>> string_splosion('Code')\n",
    "    'CCoCodCode'\n",
    "    >>> string_splosion('data!')\n",
    "    'ddadatdatadata!'\n",
    "    >>> string_splosion('hi')\n",
    "    'hhi'\n",
    "\n",
    "**Hint:** Try to use recursion. Think about how you might answering the following two questions:\n",
    "1. **[Base Case]** What is the `string_splosion` of the empty string?\n",
    "1. **[Inductive Step]** If you had a `string_splosion` function for the first $n-1$ characters of your string how could you extend it to the $n^{th}$ character? For example, `string_splosion(\"Cod\") = \"CCoCod\"` becomes `string_splosion(\"Code\") = \"CCoCodCode\"`."
   ]
  },
  {
   "cell_type": "code",
   "execution_count": 122,
   "metadata": {},
   "outputs": [],
   "source": [
    "def string_splosion(string):\n",
    "    ### BEGIN SOLUTION\n",
    "    ...\n",
    "    ### END SOLUTION"
   ]
  },
  {
   "cell_type": "code",
   "execution_count": 5,
   "metadata": {
    "nbgrader": {
     "cell_type": "code",
     "checksum": "0e914e56528eea142a988ed922a67fe4",
     "grade": false,
     "grade_id": "string-splosion",
     "locked": false,
     "schema_version": 2,
     "solution": true
    },
    "tags": [
     "solution"
    ]
   },
   "outputs": [],
   "source": [
    "def string_splosion(string):\n",
    "    ### BEGIN SOLUTION\n",
    "    if string == '':\n",
    "        return ''\n",
    "    return string_splosion(string[:-1]) + string\n",
    "    ### END SOLUTION"
   ]
  },
  {
   "cell_type": "code",
   "execution_count": 6,
   "metadata": {},
   "outputs": [],
   "source": [
    "assert string_splosion('Code') == 'CCoCodCode'\n",
    "assert string_splosion('data!') == 'ddadatdatadata!'\n",
    "assert string_splosion('hi') =='hhi'"
   ]
  },
  {
   "cell_type": "markdown",
   "metadata": {},
   "source": [
    "**Question 1.3:** Write a function double100 that takes in a list of integers and returns True only if the list has two 100s next to each other.\n",
    "\n",
    "\n",
    "    >>> double100([100, 2, 3, 100])\n",
    "    False\n",
    "    >>> double100([2, 3, 100, 100, 5])\n",
    "    True\n",
    "    "
   ]
  },
  {
   "cell_type": "code",
   "execution_count": 125,
   "metadata": {},
   "outputs": [],
   "source": [
    "def double100(nums):\n",
    "    ### BEGIN SOLUTION\n",
    "    ...\n",
    "    ### END SOLUTION"
   ]
  },
  {
   "cell_type": "code",
   "execution_count": 126,
   "metadata": {
    "nbgrader": {
     "cell_type": "code",
     "checksum": "97b8e4a77b5a3f0cc184b6012307fc2c",
     "grade": false,
     "grade_id": "double100",
     "locked": false,
     "schema_version": 2,
     "solution": true
    },
    "tags": [
     "solution"
    ]
   },
   "outputs": [],
   "source": [
    "def double100(nums):\n",
    "    ### BEGIN SOLUTION\n",
    "    if len(nums) < 2: \n",
    "        return False\n",
    "    if nums[0] == nums[1] == 100: \n",
    "        return True\n",
    "    return double100(nums[1:])\n",
    "    ### END SOLUTION"
   ]
  },
  {
   "cell_type": "code",
   "execution_count": 127,
   "metadata": {},
   "outputs": [],
   "source": [
    "assert double100([100, 2, 3, 100]) == False\n",
    "assert double100([2, 3, 100, 100, 5]) == True"
   ]
  },
  {
   "cell_type": "markdown",
   "metadata": {},
   "source": [
    "**Question 1.4:** Write a function `name_counts` that takes in a list of names (strings), creates a dictionary that records the number of times each name appears in the list.\n",
    "\n",
    "    >>> print(name_counts([\"Bill\", \"Jack\", \"Jack\", \"Kate\", \"Jill\"]))\n",
    "    {\"Jack\": 2, \"Bill\": 1, \"Jill\": 1,\"Kate\": 1,}"
   ]
  },
  {
   "cell_type": "code",
   "execution_count": 128,
   "metadata": {},
   "outputs": [],
   "source": [
    "def name_counts(names_list):\n",
    "    ### BEGIN SOLUTION\n",
    "    name_counts_dict = {}\n",
    "\n",
    "    for name in ...:\n",
    "        ...\n",
    "            \n",
    "    return name_counts_dict\n",
    "    ### END SOLUTION"
   ]
  },
  {
   "cell_type": "code",
   "execution_count": 129,
   "metadata": {},
   "outputs": [],
   "source": [
    "def name_counts(names_list):\n",
    "    ### BEGIN SOLUTION\n",
    "    name_counts_dict = {}\n",
    "\n",
    "    for name in names_list:\n",
    "        if name not in name_counts_dict:\n",
    "            name_counts_dict[name] = 1\n",
    "        else:\n",
    "            name_counts_dict[name] += 1\n",
    "            \n",
    "    return name_counts_dict\n",
    "    ### END SOLUTION"
   ]
  },
  {
   "cell_type": "code",
   "execution_count": 130,
   "metadata": {},
   "outputs": [
    {
     "name": "stdout",
     "output_type": "stream",
     "text": [
      "{'Bill': 1, 'Jack': 2, 'Kate': 1, 'Jill': 1}\n"
     ]
    }
   ],
   "source": [
    "print(name_counts([\"Bill\", \"Jack\", \"Jack\", \"Kate\", \"Jill\"]))"
   ]
  },
  {
   "cell_type": "markdown",
   "metadata": {
    "nbgrader": {
     "cell_type": "markdown",
     "checksum": "879fbab7b9199d887c56aa42349a5b27",
     "grade": false,
     "grade_id": "numpy-and-tables",
     "locked": false,
     "schema_version": 2,
     "solution": false
    }
   },
   "source": [
    "## Section 2: NumPy and Tables <a id='NumPy'></a>\n",
    "\n",
    "The `NumPy` library lets us do fast, simple computing with numbers in Python. \n",
    "\n",
    "If the following section is a little difficult, we've provided some resources for review!\n",
    "\n",
    "* [DS100 Numpy Review](http://ds100.org/fa17/assets/notebooks/numpy/Numpy_Review.html)\n",
    "* [Condensed Numpy Review](http://cs231n.github.io/python-numpy-tutorial/#numpy)\n",
    "* [The Official Numpy Tutorial](https://docs.scipy.org/doc/numpy-dev/user/quickstart.html)\n",
    "\n",
    "<br>\n",
    "**Jupyter pro-tip**: Pull up the docs for any function in Jupyter by running a cell with\n",
    "the function name and a `?` at the end:"
   ]
  },
  {
   "cell_type": "code",
   "execution_count": 131,
   "metadata": {
    "nbgrader": {
     "cell_type": "code",
     "checksum": "b86d7aec77704a4bf2119edcec544f55",
     "grade": false,
     "grade_id": "np-arange-huh",
     "locked": false,
     "schema_version": 2,
     "solution": false
    }
   },
   "outputs": [],
   "source": [
    "np.arange?"
   ]
  },
  {
   "cell_type": "markdown",
   "metadata": {
    "nbgrader": {
     "cell_type": "markdown",
     "checksum": "0ecfa74779f4801e846b87a57e256b7a",
     "grade": false,
     "grade_id": "jupyter-pro-tip-two",
     "locked": false,
     "schema_version": 2,
     "solution": false
    }
   },
   "source": [
    "**Another Jupyter pro-tip**: Pull up the docs for any function in Jupyter by typing the function\n",
    "name, then `<Shift>-<Tab>` on your keyboard. Super convenient when you forget the order\n",
    "of the arguments to a function. You can press `<Tab>` multiple tabs to expand the docs. Pressing `<Tab>` does an autocomplete, but doesn’t pull up docs.\n",
    "\n",
    "\n",
    "Try it on the function below:"
   ]
  },
  {
   "cell_type": "code",
   "execution_count": 132,
   "metadata": {},
   "outputs": [
    {
     "data": {
      "text/plain": [
       "<function numpy.core.function_base.linspace(start, stop, num=50, endpoint=True, retstep=False, dtype=None)>"
      ]
     },
     "execution_count": 132,
     "metadata": {},
     "output_type": "execute_result"
    }
   ],
   "source": [
    "np.linspace"
   ]
  },
  {
   "cell_type": "markdown",
   "metadata": {
    "nbgrader": {
     "cell_type": "markdown",
     "checksum": "7ee05d8e676fb24e90a4f527f736386e",
     "grade": false,
     "grade_id": "instructions-decypher",
     "locked": false,
     "schema_version": 2,
     "solution": false
    }
   },
   "source": [
    "You can use the tips above to help you deciper the following code."
   ]
  },
  {
   "cell_type": "code",
   "execution_count": 133,
   "metadata": {
    "nbgrader": {
     "cell_type": "code",
     "checksum": "e4ce1c9dc01fa4b30d2418b1c4e92b16",
     "grade": false,
     "grade_id": "weird-code",
     "locked": false,
     "schema_version": 2,
     "solution": false
    }
   },
   "outputs": [
    {
     "data": {
      "text/plain": [
       "0.72675"
      ]
     },
     "execution_count": 133,
     "metadata": {},
     "output_type": "execute_result"
    }
   ],
   "source": [
    "# Let's take a 20-sided die...\n",
    "NUM_FACES = 20\n",
    "\n",
    "# ...and roll it 4 times\n",
    "rolls = 4\n",
    "\n",
    "# What's the probability that all 4 rolls are different? It's:\n",
    "# 20/20 * 19/20 * 18/20 * 17/20\n",
    "prob_diff = np.prod((NUM_FACES - np.arange(rolls))\n",
    "                    / NUM_FACES)\n",
    "prob_diff"
   ]
  },
  {
   "cell_type": "code",
   "execution_count": 134,
   "metadata": {
    "nbgrader": {
     "cell_type": "code",
     "checksum": "60f27af129aeac5799ef3b4581171e96",
     "grade": false,
     "grade_id": "more-weird-code",
     "locked": false,
     "schema_version": 2,
     "solution": false
    }
   },
   "outputs": [
    {
     "data": {
      "text/plain": [
       "array([1.     , 0.95   , 0.855  , 0.72675, 0.5814 ])"
      ]
     },
     "execution_count": 134,
     "metadata": {},
     "output_type": "execute_result"
    }
   ],
   "source": [
    "# Let's compute that probability for 1 roll, 2 rolls, ..., 20 rolls.\n",
    "# The array ys will contain:\n",
    "# \n",
    "# 20/20\n",
    "# 20/20 * 19/20\n",
    "# 20/20 * 18/20\n",
    "# ...\n",
    "# 20/20 * 19/20 * ... * 1/20\n",
    "\n",
    "xs = np.arange(20)\n",
    "# np.cumprod returns the cumulative product of elements along a given axis.\n",
    "# We are computing the probability that all 4 rolls are different for 1 - 20 rolls.\n",
    "ys = np.cumprod((NUM_FACES - xs) / NUM_FACES)\n",
    "# Only displaying 5 rolls.\n",
    "ys[:5]"
   ]
  },
  {
   "cell_type": "code",
   "execution_count": 135,
   "metadata": {
    "nbgrader": {
     "cell_type": "code",
     "checksum": "90dcf622a66997f4d7cfea7ea7db624e",
     "grade": false,
     "grade_id": "plotting-code",
     "locked": false,
     "schema_version": 2,
     "solution": false
    }
   },
   "outputs": [
    {
     "data": {
      "text/plain": [
       "Text(0,0.5,'P(all different)')"
      ]
     },
     "execution_count": 135,
     "metadata": {},
     "output_type": "execute_result"
    },
    {
     "data": {
      "image/png": "[encoded data removed]",
      "text/plain": [
       "<Figure size 432x288 with 1 Axes>"
      ]
     },
     "metadata": {},
     "output_type": "display_data"
    }
   ],
   "source": [
    "plt.plot(xs, ys, 'o-')\n",
    "plt.xlabel(\"Num Rolls\")\n",
    "plt.ylabel('P(all different)')"
   ]
  },
  {
   "cell_type": "code",
   "execution_count": 136,
   "metadata": {
    "nbgrader": {
     "cell_type": "code",
     "checksum": "2724184a772438b66203efc4c3f23fd4",
     "grade": false,
     "grade_id": "total-mystery",
     "locked": false,
     "schema_version": 2,
     "solution": false
    }
   },
   "outputs": [
    {
     "data": {
      "text/plain": [
       "array([1.00000000e+00, 9.75309912e-01, 9.04837418e-01, 7.98516219e-01,\n",
       "       6.70320046e-01, 5.35261429e-01, 4.06569660e-01, 2.93757700e-01,\n",
       "       2.01896518e-01, 1.31993843e-01, 8.20849986e-02, 4.85578213e-02,\n",
       "       2.73237224e-02, 1.46253347e-02, 7.44658307e-03, 3.60656314e-03,\n",
       "       1.66155727e-03, 7.28152539e-04, 3.03539138e-04, 1.20362805e-04])"
      ]
     },
     "execution_count": 136,
     "metadata": {},
     "output_type": "execute_result"
    }
   ],
   "source": [
    "# Mysterious...\n",
    "mystery = np.exp(-xs ** 2 / (2 * NUM_FACES))\n",
    "mystery"
   ]
  },
  {
   "cell_type": "code",
   "execution_count": 137,
   "metadata": {
    "nbgrader": {
     "cell_type": "code",
     "checksum": "deffbe976b86e194fe01594082c24eaa",
     "grade": false,
     "grade_id": "another-plot",
     "locked": false,
     "schema_version": 2,
     "solution": false
    }
   },
   "outputs": [
    {
     "data": {
      "text/plain": [
       "<matplotlib.legend.Legend at 0x209c7b29940>"
      ]
     },
     "execution_count": 137,
     "metadata": {},
     "output_type": "execute_result"
    },
    {
     "data": {
      "image/png": "[encoded data removed]",
      "text/plain": [
       "<Figure size 432x288 with 1 Axes>"
      ]
     },
     "metadata": {},
     "output_type": "display_data"
    }
   ],
   "source": [
    "# If you're curious, this is the exponential approximation for our probability:\n",
    "# https://textbook.prob140.org/ch1/Exponential_Approximation.html\n",
    "plt.plot(xs, ys, 'o-', label=\"All Different\")\n",
    "plt.plot(xs, mystery, 'o-', label=\"Mystery\")\n",
    "plt.xlabel(\"Num Rolls\")\n",
    "plt.ylabel('P(all different)')\n",
    "plt.legend()"
   ]
  },
  {
   "cell_type": "markdown",
   "metadata": {
    "nbgrader": {
     "cell_type": "markdown",
     "checksum": "476630cc9dac42f33b2f1a053da45875",
     "grade": false,
     "grade_id": "quesiton2",
     "locked": false,
     "schema_version": 2,
     "solution": false
    }
   },
   "source": [
    "To test your understanding of Numpy we will work through some basic image exercises.  In the process we will explore  visual perception and color.\n",
    "\n",
    "Images are 2-dimensional grids of pixels. Each pixel contains 3 values between 0 and 1 that specify how much red, green, and blue go into each pixel.\n",
    "\n",
    "We can create images in NumPy:"
   ]
  },
  {
   "cell_type": "markdown",
   "metadata": {},
   "source": [
    "<div class=\"dsc\">I'd like another example for numpy -- this one not well explained.</div>"
   ]
  },
  {
   "cell_type": "code",
   "execution_count": 138,
   "metadata": {
    "nbgrader": {
     "cell_type": "code",
     "checksum": "8c73e9d0fa94a1d6473a0e523afaf53f",
     "grade": false,
     "grade_id": "some-array-data",
     "locked": false,
     "schema_version": 2,
     "solution": false
    }
   },
   "outputs": [
    {
     "data": {
      "text/plain": [
       "array([[[0. , 0. , 0. ],\n",
       "        [0.5, 0.5, 0.5],\n",
       "        [1. , 1. , 1. ]],\n",
       "\n",
       "       [[1. , 0. , 0. ],\n",
       "        [0. , 1. , 0. ],\n",
       "        [0. , 0. , 1. ]],\n",
       "\n",
       "       [[0.5, 0.5, 0. ],\n",
       "        [0.5, 0. , 0.5],\n",
       "        [0. , 0.5, 0.5]]])"
      ]
     },
     "execution_count": 138,
     "metadata": {},
     "output_type": "execute_result"
    }
   ],
   "source": [
    "simple_image = np.array([\n",
    "    [[  0,   0, 0], [0.5, 0.5, 0.5], [1.0, 1.0, 1.0]], # Grayscale pixels\n",
    "    [[1.0,   0, 0], [  0, 1.0,   0], [  0,   0, 1.0]], # Pure RGB pixels\n",
    "    [[0.5, 0.5, 0], [0.5,   0, 0.5], [  0, 0.5, 0.5]], # Blend of 2 colors\n",
    "])\n",
    "simple_image"
   ]
  },
  {
   "cell_type": "markdown",
   "metadata": {
    "nbgrader": {
     "cell_type": "markdown",
     "checksum": "e628e47c54d98dcbec12736a8b4e77b0",
     "grade": false,
     "grade_id": "sk-learn-image",
     "locked": false,
     "schema_version": 2,
     "solution": false
    }
   },
   "source": [
    "We can then use the [`scikit-image`](http://scikit-image.org/) library to display an image:"
   ]
  },
  {
   "cell_type": "code",
   "execution_count": 139,
   "metadata": {
    "nbgrader": {
     "cell_type": "code",
     "checksum": "75c47cfd39f9175ead15b799989de25a",
     "grade": false,
     "grade_id": "plotting-pixels",
     "locked": false,
     "schema_version": 2,
     "solution": false
    }
   },
   "outputs": [
    {
     "name": "stderr",
     "output_type": "stream",
     "text": [
      "C:\\Users\\seigi\\Anaconda3\\lib\\site-packages\\skimage\\io\\_plugins\\matplotlib_plugin.py:51: FutureWarning: Conversion of the second argument of issubdtype from `float` to `np.floating` is deprecated. In future, it will be treated as `np.float64 == np.dtype(float).type`.\n",
      "  out_of_range_float = (np.issubdtype(image.dtype, np.float) and\n",
      "C:\\Users\\seigi\\Anaconda3\\lib\\site-packages\\matplotlib\\axes\\_base.py:1400: MatplotlibDeprecationWarning: The 'box-forced' keyword argument is deprecated since 2.2.\n",
      "  \" since 2.2.\", cbook.mplDeprecation)\n"
     ]
    },
    {
     "data": {
      "image/png": "[encoded data removed]",
      "text/plain": [
       "<Figure size 432x288 with 1 Axes>"
      ]
     },
     "metadata": {},
     "output_type": "display_data"
    }
   ],
   "source": [
    "# Curious how this method works? Try using skimage.io.imshow? to find out.\n",
    "# Or, you can always look at the docs for the method.\n",
    "skimage.io.imshow(simple_image)\n",
    "plt.grid(False) # Disable matplotlib's grid lines"
   ]
  },
  {
   "cell_type": "markdown",
   "metadata": {},
   "source": [
    "----\n",
    "\n",
    "In this section, we will use numpy to answer some questions about the California Independent System Operator (CAISO) Daily Renewables Watch. This data records the hourly production of various renewable resources as well as a hourly breakdown of total production of resource type, both in megawatts (MW). For an idea of how the dataset is formatted, click [here](http://content.caiso.com/green/renewrpt/20180617_DailyRenewablesWatch.txt). \n",
    "\n",
    "**Question 2.1:** Use numpy operations to find the values of solar photovoltaic and solar energy production. Examine the resulting array -- what do you notice?"
   ]
  },
  {
   "cell_type": "code",
   "execution_count": 140,
   "metadata": {},
   "outputs": [
    {
     "data": {
      "text/plain": [
       "Ellipsis"
      ]
     },
     "execution_count": 140,
     "metadata": {},
     "output_type": "execute_result"
    }
   ],
   "source": [
    "# The following line loads the data for this question.\n",
    "data1 = pd.read_csv(\"data/q2_1.csv\").values \n",
    "#BEGIN SOLUTION\n",
    "...\n",
    "#END SOLUTION"
   ]
  },
  {
   "cell_type": "code",
   "execution_count": 141,
   "metadata": {},
   "outputs": [
    {
     "data": {
      "text/plain": [
       "array([[0, 0],\n",
       "       [0, 0],\n",
       "       [0, 0],\n",
       "       [0, 0],\n",
       "       [0, 0],\n",
       "       [0, 0],\n",
       "       [174, 0],\n",
       "       [2376, 0],\n",
       "       [5484, 86],\n",
       "       [5312, 141],\n",
       "       [3503, 110],\n",
       "       [6329, 201],\n",
       "       [8700, 472],\n",
       "       [8857, 527],\n",
       "       [8732, 598],\n",
       "       [7983, 395],\n",
       "       [7020, 262],\n",
       "       [5329, 228],\n",
       "       [2193, 119],\n",
       "       [114, 0],\n",
       "       [0, 0],\n",
       "       [0, 0],\n",
       "       [0, 0],\n",
       "       [0, 0]], dtype=object)"
      ]
     },
     "execution_count": 141,
     "metadata": {},
     "output_type": "execute_result"
    }
   ],
   "source": [
    "# Here is some template code to get the data for this question.\n",
    "data1 = pd.read_csv(\"data/q2_1.csv\").values\n",
    "#BEGIN SOLUTION\n",
    "data1[:,[7, 8]]\n",
    "#END SOLUTION"
   ]
  },
  {
   "cell_type": "markdown",
   "metadata": {},
   "source": [
    "If you checked the date, this data is from last August's solar eclipse, which explains the dip in solar energy production that day!\n",
    "\n",
    "**Question 2.2:** Use numpy operations to answer the following question: \"April is considered one of the windiest months of the year. What was the total wind energy resource count during April in 2017?\""
   ]
  },
  {
   "cell_type": "code",
   "execution_count": 142,
   "metadata": {},
   "outputs": [
    {
     "name": "stderr",
     "output_type": "stream",
     "text": [
      "C:\\Users\\seigi\\Anaconda3\\lib\\site-packages\\ipykernel_launcher.py:1: FutureWarning: Method .as_matrix will be removed in a future version. Use .values instead.\n",
      "  \"\"\"Entry point for launching an IPython kernel.\n"
     ]
    },
    {
     "data": {
      "text/plain": [
       "Ellipsis"
      ]
     },
     "execution_count": 142,
     "metadata": {},
     "output_type": "execute_result"
    }
   ],
   "source": [
    "data2 = pd.read_csv(\"data/q2_2.csv\").as_matrix()\n",
    "### BEGIN SOLUTION\n",
    "...\n",
    "### END SOLUTION"
   ]
  },
  {
   "cell_type": "code",
   "execution_count": 143,
   "metadata": {},
   "outputs": [
    {
     "name": "stderr",
     "output_type": "stream",
     "text": [
      "C:\\Users\\seigi\\Anaconda3\\lib\\site-packages\\ipykernel_launcher.py:1: FutureWarning: Method .as_matrix will be removed in a future version. Use .values instead.\n",
      "  \"\"\"Entry point for launching an IPython kernel.\n"
     ]
    },
    {
     "data": {
      "text/plain": [
       "1373562"
      ]
     },
     "execution_count": 143,
     "metadata": {},
     "output_type": "execute_result"
    }
   ],
   "source": [
    "data2 = pd.read_csv(\"data/q2_2.csv\").as_matrix()\n",
    "### BEGIN SOLUTION\n",
    "np.sum(data2[:,6])\n",
    "### END SOLUTION"
   ]
  },
  {
   "cell_type": "markdown",
   "metadata": {},
   "source": [
    "**Question 2.3:** What was the overall total resource count across all resource types in the dataset on July 4th, Independence Day in California?"
   ]
  },
  {
   "cell_type": "code",
   "execution_count": 144,
   "metadata": {},
   "outputs": [
    {
     "name": "stderr",
     "output_type": "stream",
     "text": [
      "C:\\Users\\seigi\\Anaconda3\\lib\\site-packages\\ipykernel_launcher.py:1: FutureWarning: Method .as_matrix will be removed in a future version. Use .values instead.\n",
      "  \"\"\"Entry point for launching an IPython kernel.\n"
     ]
    },
    {
     "data": {
      "text/plain": [
       "Ellipsis"
      ]
     },
     "execution_count": 144,
     "metadata": {},
     "output_type": "execute_result"
    }
   ],
   "source": [
    "data3 = pd.read_csv(\"data/q2_3.csv\").as_matrix()\n",
    "### BEGIN SOLUTION\n",
    "...\n",
    "### END SOLUTION"
   ]
  },
  {
   "cell_type": "code",
   "execution_count": 146,
   "metadata": {},
   "outputs": [
    {
     "name": "stderr",
     "output_type": "stream",
     "text": [
      "C:\\Users\\seigi\\Anaconda3\\lib\\site-packages\\ipykernel_launcher.py:1: FutureWarning: Method .as_matrix will be removed in a future version. Use .values instead.\n",
      "  \"\"\"Entry point for launching an IPython kernel.\n"
     ]
    },
    {
     "ename": "NameError",
     "evalue": "name 'july_4_data' is not defined",
     "output_type": "error",
     "traceback": [
      "\u001b[1;31m---------------------------------------------------------------------------\u001b[0m",
      "\u001b[1;31mNameError\u001b[0m                                 Traceback (most recent call last)",
      "\u001b[1;32m<ipython-input-146-40875bfaa828>\u001b[0m in \u001b[0;36m<module>\u001b[1;34m()\u001b[0m\n\u001b[0;32m      1\u001b[0m \u001b[0mdata3\u001b[0m \u001b[1;33m=\u001b[0m \u001b[0mpd\u001b[0m\u001b[1;33m.\u001b[0m\u001b[0mread_csv\u001b[0m\u001b[1;33m(\u001b[0m\u001b[1;34m\"data/q2_3.csv\"\u001b[0m\u001b[1;33m)\u001b[0m\u001b[1;33m.\u001b[0m\u001b[0mas_matrix\u001b[0m\u001b[1;33m(\u001b[0m\u001b[1;33m)\u001b[0m\u001b[1;33m\u001b[0m\u001b[0m\n\u001b[0;32m      2\u001b[0m \u001b[1;31m### BEGIN SOLUTION\u001b[0m\u001b[1;33m\u001b[0m\u001b[1;33m\u001b[0m\u001b[0m\n\u001b[1;32m----> 3\u001b[1;33m \u001b[0mnp\u001b[0m\u001b[1;33m.\u001b[0m\u001b[0msum\u001b[0m\u001b[1;33m(\u001b[0m\u001b[0mjuly_4_data\u001b[0m\u001b[1;33m[\u001b[0m\u001b[1;33m:\u001b[0m\u001b[1;33m,\u001b[0m\u001b[1;36m2\u001b[0m\u001b[1;33m:\u001b[0m\u001b[1;36m9\u001b[0m\u001b[1;33m]\u001b[0m\u001b[1;33m)\u001b[0m\u001b[1;33m\u001b[0m\u001b[0m\n\u001b[0m\u001b[0;32m      4\u001b[0m \u001b[1;31m### END SOLUTION\u001b[0m\u001b[1;33m\u001b[0m\u001b[1;33m\u001b[0m\u001b[0m\n",
      "\u001b[1;31mNameError\u001b[0m: name 'july_4_data' is not defined"
     ]
    }
   ],
   "source": [
    "data3 = pd.read_csv(\"data/q2_3.csv\").as_matrix()\n",
    "### BEGIN SOLUTION\n",
    "np.sum(july_4_data[:,2:9])\n",
    "### END SOLUTION"
   ]
  },
  {
   "cell_type": "markdown",
   "metadata": {
    "nbgrader": {
     "cell_type": "markdown",
     "checksum": "e252d3114df4dde790eca749770cb5f2",
     "grade": false,
     "grade_id": "mv-calc",
     "locked": false,
     "schema_version": 2,
     "solution": false
    }
   },
   "source": [
    "## Section 3: Multivariable Calculus <a id='MultiCalc'></a>\n",
    "\n",
    "The following section will ask you to recall your knowledge of multivariable calculus. Although the class is not a hard prerequisite, we will use fundamental concepts, so the following problems should familiarize you to these topics if you haven't taken it yet!\n",
    "\n",
    "----"
   ]
  },
  {
   "cell_type": "markdown",
   "metadata": {
    "nbgrader": {
     "cell_type": "markdown",
     "checksum": "578458b94641a0941893232cce4e3d14",
     "grade": false,
     "grade_id": "question3",
     "locked": false,
     "schema_version": 2,
     "solution": false
    },
    "tags": [
     "written"
    ]
   },
   "source": [
    "**Question 3.1:** Simplify the following expression:\n",
    "\n",
    "$$\n",
    "\\large \\ln \\left( 3 e^{2  x} e^{\\frac{1}{x^2}} \\right)\n",
    "$$"
   ]
  },
  {
   "cell_type": "markdown",
   "metadata": {
    "nbgrader": {
     "cell_type": "markdown",
     "checksum": "17e548c59d4dd2bcaa8d95a7030cafa7",
     "grade": false,
     "grade_id": "question3a",
     "locked": false,
     "schema_version": 2,
     "solution": false
    },
    "tags": [
     "written",
     "student"
    ]
   },
   "source": [
    "$$\n",
    "\\ln \\left( 3 e^{2  x} e^{\\frac{1}{x^2}} \\right) = \n",
    "\\ldots\n",
    "$$\n"
   ]
  },
  {
   "cell_type": "markdown",
   "metadata": {
    "nbgrader": {
     "cell_type": "markdown",
     "checksum": "4c3b77adcccaf81e29f87565781130ff",
     "grade": true,
     "grade_id": "question3a-answer",
     "locked": false,
     "points": 1,
     "schema_version": 2,
     "solution": true
    },
    "tags": [
     "written",
     "solution"
    ]
   },
   "source": [
    "\\begin{align}\n",
    "\\ln \\left( 3 e^{2  x} e^{\\frac{1}{x^2}} \\right) \n",
    "& = \\ln \\left( 3 e^{ \\frac{2x^3 + 1}{x^2}}  \\right) \\\\\n",
    "& = \\ln(3)  + \\frac{2x^3 + 1}{x^2}\n",
    "\\end{align}"
   ]
  },
  {
   "cell_type": "markdown",
   "metadata": {
    "nbgrader": {
     "cell_type": "markdown",
     "checksum": "3ab703085b4fa129f7e4fb80d7cf127d",
     "grade": false,
     "grade_id": "question3b",
     "locked": false,
     "schema_version": 2,
     "solution": false
    },
    "tags": [
     "written"
    ]
   },
   "source": [
    "**Question 3.2**: Suppose we have the following scalar-valued function on $x$ and $y$:\n",
    "\n",
    "$$ \\Large f(x, y) = x^2 + 4xy + 2y^3 + e^{-3y} + \\ln(2y) $$\n",
    "\n",
    "Compute the partial derivative with respect to $x$."
   ]
  },
  {
   "cell_type": "markdown",
   "metadata": {
    "nbgrader": {
     "cell_type": "markdown",
     "checksum": "4f2ef9742fc401480241a6e97a0a27b5",
     "grade": false,
     "grade_id": "question3beq",
     "locked": false,
     "schema_version": 2,
     "solution": false
    },
    "tags": [
     "student",
     "written"
    ]
   },
   "source": [
    "$$ \\frac{\\partial}{\\partial x} f(x,y) = ... $$"
   ]
  },
  {
   "cell_type": "markdown",
   "metadata": {
    "nbgrader": {
     "cell_type": "markdown",
     "checksum": "36adec5346bedc94940aa2e00dfd135c",
     "grade": true,
     "grade_id": "question3b-answer",
     "locked": false,
     "points": 1,
     "schema_version": 2,
     "solution": true
    },
    "tags": [
     "solution"
    ]
   },
   "source": [
    "$$ \\frac{\\partial}{\\partial x} f(x,y) = 2x + 4y $$"
   ]
  },
  {
   "cell_type": "markdown",
   "metadata": {
    "nbgrader": {
     "cell_type": "markdown",
     "checksum": "e34c1b66b696c223a5937ac9df854aa3",
     "grade": false,
     "grade_id": "question3c",
     "locked": false,
     "schema_version": 2,
     "solution": false
    },
    "tags": [
     "written"
    ]
   },
   "source": [
    "**Question 3.3:** Now compute the partial derivative of $f(x,y)$ with respect to $y$:"
   ]
  },
  {
   "cell_type": "markdown",
   "metadata": {
    "nbgrader": {
     "cell_type": "markdown",
     "checksum": "2ced6a42e57611dd9af1d13858942e14",
     "grade": false,
     "grade_id": "question3ceq",
     "locked": false,
     "schema_version": 2,
     "solution": false
    },
    "tags": [
     "student",
     "written"
    ]
   },
   "source": [
    "$$ \\frac{\\partial}{\\partial y} f(x,y) = ... $$"
   ]
  },
  {
   "cell_type": "markdown",
   "metadata": {
    "nbgrader": {
     "cell_type": "markdown",
     "checksum": "d2d066c48ef0e237bf9046e9e3d46160",
     "grade": true,
     "grade_id": "question3c-answer",
     "locked": false,
     "points": 1,
     "schema_version": 2,
     "solution": true
    },
    "tags": [
     "solution"
    ]
   },
   "source": [
    "$$ \\frac{\\partial}{\\partial y} f = 4x + 6y^2 -3 e^{-3y} + \\frac{2}{2y} $$"
   ]
  },
  {
   "cell_type": "markdown",
   "metadata": {
    "nbgrader": {
     "cell_type": "markdown",
     "checksum": "2d34058989a2c75675476047cff6168c",
     "grade": false,
     "grade_id": "question4",
     "locked": false,
     "schema_version": 2,
     "solution": false
    }
   },
   "source": [
    "In this question, we'll ask you to use your linear algebra knowledge to fill in NumPy matrices. To conduct matrix multiplication in NumPy, you should write code like the following:"
   ]
  },
  {
   "cell_type": "code",
   "execution_count": 82,
   "metadata": {
    "nbgrader": {
     "cell_type": "code",
     "checksum": "d38405314a199c0fe8f75ce2b27aa2c4",
     "grade": false,
     "grade_id": "matA-times-matB",
     "locked": false,
     "schema_version": 2,
     "solution": false
    }
   },
   "outputs": [
    {
     "data": {
      "text/plain": [
       "array([[ 76,  82],\n",
       "       [184, 199]])"
      ]
     },
     "execution_count": 82,
     "metadata": {},
     "output_type": "execute_result"
    }
   ],
   "source": [
    "# A matrix in NumPy is simply a 2-dimensional NumPy array\n",
    "matA = np.array([\n",
    "    [1, 2, 3],\n",
    "    [4, 5, 6],\n",
    "])\n",
    "\n",
    "matB = np.array([\n",
    "    [10, 11],\n",
    "    [12, 13],\n",
    "    [14, 15],\n",
    "])\n",
    "\n",
    "# The notation B @ v means: compute the matrix multiplication Bv\n",
    "matA @ matB"
   ]
  },
  {
   "cell_type": "markdown",
   "metadata": {
    "nbgrader": {
     "cell_type": "markdown",
     "checksum": "1c4bc59ec712d4229ae0eb1bef86e5f5",
     "grade": false,
     "grade_id": "mat-vec-handy",
     "locked": false,
     "schema_version": 2,
     "solution": false
    }
   },
   "source": [
    "You can also use the same syntax to do matrix-vector multiplication or vector dot products. Handy!"
   ]
  },
  {
   "cell_type": "code",
   "execution_count": 83,
   "metadata": {
    "nbgrader": {
     "cell_type": "code",
     "checksum": "6e01716f847933c47bbdd4dd557afa0c",
     "grade": false,
     "grade_id": "mat-vec-code",
     "locked": false,
     "schema_version": 2,
     "solution": false
    }
   },
   "outputs": [
    {
     "name": "stdout",
     "output_type": "stream",
     "text": [
      "[ 76 184]\n",
      "760\n"
     ]
    }
   ],
   "source": [
    "matA = np.array([\n",
    "    [1, 2, 3],\n",
    "    [4, 5, 6],\n",
    "])\n",
    "\n",
    "# A vector in NumPy is simply a 1-dimensional NumPy array\n",
    "some_vec = np.array([ 10, 12, 14, ])\n",
    "\n",
    "another_vec = np.array([ 10, 20, 30 ])\n",
    "\n",
    "print(matA @ some_vec)\n",
    "print(some_vec @ another_vec)"
   ]
  },
  {
   "cell_type": "markdown",
   "metadata": {
    "nbgrader": {
     "cell_type": "markdown",
     "checksum": "308dbeb2f4547a9faa27439c6113fca7",
     "grade": false,
     "grade_id": "question4a",
     "locked": false,
     "schema_version": 2,
     "solution": false
    }
   },
   "source": [
    "## Section 4: Linear Algebra <a id='LinAlg'></a>\n",
    "\n",
    "We'll continue the math review with a short section on linear algebra. Luckily, we have NumPy at our disposal to perform matrix operations. Let's dive right in.\n",
    "\n",
    "----\n",
    "\n",
    "Joey, Deb, and Sam are shopping for fruit at Berkeley Bowl. Berkeley Bowl, true to its name, only sells fruit bowls. A fruit bowl contains some fruit and the price of a fruit bowl is the total price of all of its individual fruit.\n",
    "\n",
    "Berkeley Bowl has apples for \\$2.00, bananas \\$1.00, and cantaloupes \\$4.00 (expensive!). The price of each of these can be written in a vector:\n",
    "\n",
    "$$\n",
    "\\vec{v} = \\begin{bmatrix}\n",
    "     2 \\\\\n",
    "     1 \\\\\n",
    "     4 \\\\\n",
    "\\end{bmatrix}\n",
    "$$\n",
    "\n",
    "Berkeley Bowl sells the following fruit bowls:\n",
    "\n",
    "1. 2 of each fruit\n",
    "2. 5 apples and 8 bananas\n",
    "3. 2 bananas and 3 cantaloupes\n",
    "4. 10 cantaloupes\n",
    "\n",
    "**Question 4.1:** Create a 2-dimensional numpy array encoding the matrix $B$ such that the matrix-vector multiplication\n",
    "\n",
    "$$\n",
    "B\\vec{v}\n",
    "$$\n",
    "\n",
    "evaluates to a length 4 column vector containing the price of each fruit bowl. The first entry of the result should be the cost of fruit bowl #1, the second entry the cost of fruit bowl #2, etc."
   ]
  },
  {
   "cell_type": "code",
   "execution_count": 84,
   "metadata": {
    "scrolled": true
   },
   "outputs": [
    {
     "ename": "TypeError",
     "evalue": "Object arrays are not currently supported",
     "output_type": "error",
     "traceback": [
      "\u001b[1;31m---------------------------------------------------------------------------\u001b[0m",
      "\u001b[1;31mTypeError\u001b[0m                                 Traceback (most recent call last)",
      "\u001b[1;32m<ipython-input-84-d6847aabca51>\u001b[0m in \u001b[0;36m<module>\u001b[1;34m()\u001b[0m\n\u001b[0;32m      9\u001b[0m \u001b[1;33m\u001b[0m\u001b[0m\n\u001b[0;32m     10\u001b[0m \u001b[1;31m# The notation B @ v means: compute the matrix multiplication Bv\u001b[0m\u001b[1;33m\u001b[0m\u001b[1;33m\u001b[0m\u001b[0m\n\u001b[1;32m---> 11\u001b[1;33m \u001b[0mB\u001b[0m \u001b[1;33m@\u001b[0m \u001b[0mv\u001b[0m\u001b[1;33m\u001b[0m\u001b[0m\n\u001b[0m",
      "\u001b[1;31mTypeError\u001b[0m: Object arrays are not currently supported"
     ]
    }
   ],
   "source": [
    "v = np.array([2,1,4])\n",
    "\n",
    "# Fill in B\n",
    "# B = ...\n",
    "\n",
    "### BEGIN SOLUTION\n",
    "B = ...\n",
    "### END SOLUTION\n",
    "\n",
    "# The notation B @ v means: compute the matrix multiplication Bv\n",
    "B @ v"
   ]
  },
  {
   "cell_type": "code",
   "execution_count": 85,
   "metadata": {
    "nbgrader": {
     "cell_type": "code",
     "checksum": "000af1695e9199dc2eaf4515633143f7",
     "grade": false,
     "grade_id": "question4-code",
     "locked": false,
     "schema_version": 2,
     "solution": true
    },
    "tags": [
     "solution"
    ]
   },
   "outputs": [
    {
     "data": {
      "text/plain": [
       "array([14, 18, 14, 40])"
      ]
     },
     "execution_count": 85,
     "metadata": {},
     "output_type": "execute_result"
    }
   ],
   "source": [
    "v = np.array([2,1,4])\n",
    "\n",
    "# Fill in B\n",
    "# B = ...\n",
    "\n",
    "### BEGIN SOLUTION\n",
    "B = np.array([\n",
    "    [2, 2, 2],\n",
    "    [5, 8, 0],\n",
    "    [0, 2, 3],\n",
    "    [0, 0, 10]\n",
    "])\n",
    "### END SOLUTION\n",
    "\n",
    "# The notation B @ v means: compute the matrix multiplication Bv\n",
    "B @ v"
   ]
  },
  {
   "cell_type": "markdown",
   "metadata": {
    "nbgrader": {
     "cell_type": "markdown",
     "checksum": "33b462326181b0cdac402fca0925e323",
     "grade": false,
     "grade_id": "question4b",
     "locked": false,
     "schema_version": 2,
     "solution": false
    }
   },
   "source": [
    "**Question 4.2:** Joey, Deb, and Sam make the following purchases:\n",
    "\n",
    "- Joey buys 2 fruit bowl #1's and 1 fruit bowl #2.\n",
    "- Deb buys 1 of each fruit bowl.\n",
    "- Sam buys 10 fruit bowl #4s (he really like cantaloupes).\n",
    "\n",
    "Create a matrix $A$ such that the matrix expression\n",
    "\n",
    "$$\n",
    "AB\\vec{v}\n",
    "$$\n",
    "\n",
    "evaluates to a length 3 column vector containing how much each of them spent. The first entry of the result should be the total amount spent by Joey, the second entry the amount sent by Deb, etc."
   ]
  },
  {
   "cell_type": "code",
   "execution_count": 86,
   "metadata": {},
   "outputs": [
    {
     "ename": "TypeError",
     "evalue": "Object arrays are not currently supported",
     "output_type": "error",
     "traceback": [
      "\u001b[1;31m---------------------------------------------------------------------------\u001b[0m",
      "\u001b[1;31mTypeError\u001b[0m                                 Traceback (most recent call last)",
      "\u001b[1;32m<ipython-input-86-056e7364342b>\u001b[0m in \u001b[0;36m<module>\u001b[1;34m()\u001b[0m\n\u001b[0;32m      8\u001b[0m ]) \n\u001b[0;32m      9\u001b[0m \u001b[1;33m\u001b[0m\u001b[0m\n\u001b[1;32m---> 10\u001b[1;33m \u001b[0mA\u001b[0m \u001b[1;33m@\u001b[0m \u001b[0mB\u001b[0m \u001b[1;33m@\u001b[0m \u001b[0mv\u001b[0m\u001b[1;33m\u001b[0m\u001b[0m\n\u001b[0m",
      "\u001b[1;31mTypeError\u001b[0m: Object arrays are not currently supported"
     ]
    }
   ],
   "source": [
    "A = np.array([\n",
    "    [2, 1, 0, 0],\n",
    "    # Finish this!\n",
    "    \n",
    "    ### BEGIN SOLUTION\n",
    "    ...\n",
    "    ### END SOLUTION\n",
    "]) \n",
    "\n",
    "A @ B @ v "
   ]
  },
  {
   "cell_type": "code",
   "execution_count": 87,
   "metadata": {
    "nbgrader": {
     "cell_type": "code",
     "checksum": "86666671e9f618ccbd2abb43e36fba9b",
     "grade": false,
     "grade_id": "question4b-code",
     "locked": false,
     "schema_version": 2,
     "solution": true
    },
    "tags": [
     "solution"
    ]
   },
   "outputs": [
    {
     "data": {
      "text/plain": [
       "array([ 46,  86, 400])"
      ]
     },
     "execution_count": 87,
     "metadata": {},
     "output_type": "execute_result"
    }
   ],
   "source": [
    "A = np.array([\n",
    "    [2, 1, 0, 0],\n",
    "    # Finish this!\n",
    "    \n",
    "    ### BEGIN SOLUTION\n",
    "    [1, 1, 1, 1],\n",
    "    [0, 0, 0, 10]\n",
    "    ### END SOLUTION\n",
    "]) \n",
    "\n",
    "A @ B @ v "
   ]
  },
  {
   "cell_type": "markdown",
   "metadata": {
    "nbgrader": {
     "cell_type": "markdown",
     "checksum": "4feabb7266f67451770b00863632de8f",
     "grade": false,
     "grade_id": "question4c",
     "locked": false,
     "schema_version": 2,
     "solution": false
    },
    "tags": [
     "written"
    ]
   },
   "source": [
    "**Question 4.3:** Who spent the most money?"
   ]
  },
  {
   "cell_type": "markdown",
   "metadata": {},
   "source": [
    "*Your answer here*"
   ]
  },
  {
   "cell_type": "code",
   "execution_count": 88,
   "metadata": {
    "nbgrader": {
     "cell_type": "markdown",
     "checksum": "6b04bbf6ee91ccd5a35e8c437f55ae48",
     "grade": true,
     "grade_id": "question4c-answer",
     "locked": false,
     "points": 1,
     "schema_version": 2,
     "solution": true
    },
    "tags": [
     "student",
     "written"
    ]
   },
   "outputs": [
    {
     "ename": "NameError",
     "evalue": "name 'Sam' is not defined",
     "output_type": "error",
     "traceback": [
      "\u001b[1;31m---------------------------------------------------------------------------\u001b[0m",
      "\u001b[1;31mNameError\u001b[0m                                 Traceback (most recent call last)",
      "\u001b[1;32m<ipython-input-88-da5454b13804>\u001b[0m in \u001b[0;36m<module>\u001b[1;34m()\u001b[0m\n\u001b[0;32m      1\u001b[0m \u001b[1;31m#SOLUTION\u001b[0m\u001b[1;33m\u001b[0m\u001b[1;33m\u001b[0m\u001b[0m\n\u001b[1;32m----> 2\u001b[1;33m \u001b[0mSam\u001b[0m\u001b[1;33m\u001b[0m\u001b[0m\n\u001b[0m",
      "\u001b[1;31mNameError\u001b[0m: name 'Sam' is not defined"
     ]
    }
   ],
   "source": [
    "#SOLUTION\n",
    "Sam"
   ]
  },
  {
   "cell_type": "markdown",
   "metadata": {
    "nbgrader": {
     "cell_type": "markdown",
     "checksum": "06f378e57e0aab496a1fab11e6606242",
     "grade": false,
     "grade_id": "cell-8f8d7cbfb6493af0",
     "locked": false,
     "schema_version": 2,
     "solution": false
    }
   },
   "source": [
    "**Question 4.4:** Let's suppose Berkeley Bowl changes their fruit prices, but you don't know what they changed their prices to. Joey, Deb, and Sam buy the same quantity of fruit baskets and the number of fruit in each basket is the same, but now they each spent these amounts:\n",
    "\n",
    "$$\n",
    "\\vec{x} = \\begin{bmatrix}\n",
    "    80 \\\\\n",
    "    80 \\\\\n",
    "    100 \\\\\n",
    "\\end{bmatrix}\n",
    "$$\n",
    "\n",
    "Use `np.linalg.inv` and the final costs from Question 4.2 to compute the new prices for the individual fruits."
   ]
  },
  {
   "cell_type": "code",
   "execution_count": 89,
   "metadata": {},
   "outputs": [],
   "source": [
    "new_v = ..."
   ]
  },
  {
   "cell_type": "code",
   "execution_count": 90,
   "metadata": {
    "nbgrader": {
     "cell_type": "code",
     "checksum": "0cf1a64d0bf392fe5e82d1c2032e9bbd",
     "grade": false,
     "grade_id": "question4d",
     "locked": false,
     "schema_version": 2,
     "solution": true
    },
    "tags": [
     "solution"
    ]
   },
   "outputs": [
    {
     "data": {
      "text/plain": [
       "array([5.5       , 2.20833333, 1.        ])"
      ]
     },
     "execution_count": 90,
     "metadata": {},
     "output_type": "execute_result"
    }
   ],
   "source": [
    "# SOLUTION\n",
    "new_v = np.linalg.inv(A @ B) @ np.array([80, 80, 100])\n",
    "new_v"
   ]
  },
  {
   "cell_type": "markdown",
   "metadata": {},
   "source": [
    "And that's it -- you've finished homework 1! "
   ]
  }
 ],
 "metadata": {
  "kernelspec": {
   "display_name": "Python 3",
   "language": "python",
   "name": "python3"
  },
  "language_info": {
   "codemirror_mode": {
    "name": "ipython",
    "version": 3
   },
   "file_extension": ".py",
   "mimetype": "text/x-python",
   "name": "python",
   "nbconvert_exporter": "python",
   "pygments_lexer": "ipython3",
   "version": "3.6.5"
  },
  "toc": {
   "colors": {
    "hover_highlight": "#DAA520",
    "running_highlight": "#FF0000",
    "selected_highlight": "#FFD700"
   },
   "moveMenuLeft": true,
   "nav_menu": {
    "height": "512px",
    "width": "252px"
   },
   "navigate_menu": true,
   "number_sections": true,
   "sideBar": true,
   "threshold": 4,
   "toc_cell": true,
   "toc_section_display": "none",
   "toc_window_display": true
  }
 },
 "nbformat": 4,
 "nbformat_minor": 2
}
